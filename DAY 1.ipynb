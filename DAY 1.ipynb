{
 "cells": [
  {
   "cell_type": "code",
   "execution_count": 1,
   "id": "d7d8109e",
   "metadata": {},
   "outputs": [
    {
     "name": "stdout",
     "output_type": "stream",
     "text": [
      "Hello World\n"
     ]
    }
   ],
   "source": [
    "print('Hello World')"
   ]
  },
  {
   "cell_type": "code",
   "execution_count": 3,
   "id": "20c6db3e",
   "metadata": {},
   "outputs": [
    {
     "name": "stdout",
     "output_type": "stream",
     "text": [
      "Hello  World\n"
     ]
    }
   ],
   "source": [
    "print(\"Hello  World\")"
   ]
  },
  {
   "cell_type": "code",
   "execution_count": 4,
   "id": "69d18d07",
   "metadata": {},
   "outputs": [
    {
     "name": "stdout",
     "output_type": "stream",
     "text": [
      "Father's Name\n"
     ]
    }
   ],
   "source": [
    "print (\"Father's Name\")"
   ]
  },
  {
   "cell_type": "code",
   "execution_count": 6,
   "id": "16ddfe8d",
   "metadata": {},
   "outputs": [],
   "source": [
    "x=10"
   ]
  },
  {
   "cell_type": "code",
   "execution_count": 7,
   "id": "9798fd9d",
   "metadata": {},
   "outputs": [
    {
     "name": "stdout",
     "output_type": "stream",
     "text": [
      "10\n"
     ]
    }
   ],
   "source": [
    "x=10\n",
    "print(x)"
   ]
  },
  {
   "cell_type": "code",
   "execution_count": 10,
   "id": "39459fef",
   "metadata": {},
   "outputs": [
    {
     "name": "stdout",
     "output_type": "stream",
     "text": [
      "x\n"
     ]
    }
   ],
   "source": [
    "print('x')"
   ]
  },
  {
   "cell_type": "code",
   "execution_count": 12,
   "id": "767b15e2",
   "metadata": {},
   "outputs": [
    {
     "data": {
      "text/plain": [
       "('value of x=', 10)"
      ]
     },
     "execution_count": 12,
     "metadata": {},
     "output_type": "execute_result"
    }
   ],
   "source": [
    "(\"value of x=\",x)"
   ]
  },
  {
   "cell_type": "code",
   "execution_count": 13,
   "id": "eaefc25a",
   "metadata": {},
   "outputs": [
    {
     "name": "stdout",
     "output_type": "stream",
     "text": [
      "x\n"
     ]
    }
   ],
   "source": [
    "x=-10\n",
    "print('x')"
   ]
  },
  {
   "cell_type": "code",
   "execution_count": 28,
   "id": "151c33cd",
   "metadata": {},
   "outputs": [
    {
     "name": "stdout",
     "output_type": "stream",
     "text": [
      "value of x= -10\n"
     ]
    }
   ],
   "source": [
    "print (\"value of x=\",-x)"
   ]
  },
  {
   "cell_type": "code",
   "execution_count": 17,
   "id": "edf401b0",
   "metadata": {},
   "outputs": [
    {
     "name": "stdout",
     "output_type": "stream",
     "text": [
      "x\n"
     ]
    }
   ],
   "source": [
    "x= -10\n",
    "print('x')"
   ]
  },
  {
   "cell_type": "code",
   "execution_count": 18,
   "id": "ad6dd631",
   "metadata": {},
   "outputs": [
    {
     "name": "stdout",
     "output_type": "stream",
     "text": [
      "value of x= -10\n"
     ]
    }
   ],
   "source": [
    "print (\"value of x=\",x)"
   ]
  },
  {
   "cell_type": "code",
   "execution_count": 19,
   "id": "c2d4187a",
   "metadata": {},
   "outputs": [
    {
     "name": "stdout",
     "output_type": "stream",
     "text": [
      "x\n"
     ]
    }
   ],
   "source": [
    "x=-10\n",
    "print ('x')"
   ]
  },
  {
   "cell_type": "code",
   "execution_count": 20,
   "id": "60d6dde7",
   "metadata": {},
   "outputs": [
    {
     "name": "stdout",
     "output_type": "stream",
     "text": [
      "x\n"
     ]
    }
   ],
   "source": [
    "x=-10\n",
    "print('x')"
   ]
  },
  {
   "cell_type": "code",
   "execution_count": 21,
   "id": "b51b6cb2",
   "metadata": {},
   "outputs": [
    {
     "name": "stdout",
     "output_type": "stream",
     "text": [
      "x\n"
     ]
    }
   ],
   "source": [
    "x=-10\n",
    "print(\"x\")"
   ]
  },
  {
   "cell_type": "code",
   "execution_count": 23,
   "id": "275a25be",
   "metadata": {},
   "outputs": [
    {
     "name": "stdout",
     "output_type": "stream",
     "text": [
      "value of x= -10\n"
     ]
    }
   ],
   "source": [
    "print (\"value of x=\",x)"
   ]
  },
  {
   "cell_type": "code",
   "execution_count": 24,
   "id": "35a1f84f",
   "metadata": {},
   "outputs": [
    {
     "name": "stdout",
     "output_type": "stream",
     "text": [
      "x\n"
     ]
    }
   ],
   "source": [
    "x=10\n",
    "print('x')"
   ]
  },
  {
   "cell_type": "code",
   "execution_count": 25,
   "id": "5fc3737f",
   "metadata": {},
   "outputs": [
    {
     "name": "stdout",
     "output_type": "stream",
     "text": [
      "x\n"
     ]
    }
   ],
   "source": [
    "x=10\n",
    "print('x')"
   ]
  },
  {
   "cell_type": "code",
   "execution_count": 26,
   "id": "4435f1f1",
   "metadata": {},
   "outputs": [
    {
     "name": "stdout",
     "output_type": "stream",
     "text": [
      "value of x= 10\n"
     ]
    }
   ],
   "source": [
    "print (\"value of x=\",x)"
   ]
  },
  {
   "cell_type": "code",
   "execution_count": 27,
   "id": "83a44db2",
   "metadata": {},
   "outputs": [
    {
     "name": "stdout",
     "output_type": "stream",
     "text": [
      "value of x= 10\n"
     ]
    }
   ],
   "source": [
    "print(\"value of x=\",x)"
   ]
  },
  {
   "cell_type": "code",
   "execution_count": 29,
   "id": "58cb7704",
   "metadata": {},
   "outputs": [
    {
     "name": "stdout",
     "output_type": "stream",
     "text": [
      "x\n"
     ]
    }
   ],
   "source": [
    "x=-10\n",
    "print('x')"
   ]
  },
  {
   "cell_type": "code",
   "execution_count": null,
   "id": "744b4ddd",
   "metadata": {},
   "outputs": [],
   "source": []
  }
 ],
 "metadata": {
  "kernelspec": {
   "display_name": "Python 3 (ipykernel)",
   "language": "python",
   "name": "python3"
  },
  "language_info": {
   "codemirror_mode": {
    "name": "ipython",
    "version": 3
   },
   "file_extension": ".py",
   "mimetype": "text/x-python",
   "name": "python",
   "nbconvert_exporter": "python",
   "pygments_lexer": "ipython3",
   "version": "3.9.7"
  }
 },
 "nbformat": 4,
 "nbformat_minor": 5
}
